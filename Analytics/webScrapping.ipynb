{
  "nbformat": 4,
  "nbformat_minor": 0,
  "metadata": {
    "colab": {
      "provenance": []
    },
    "kernelspec": {
      "name": "python3",
      "display_name": "Python 3"
    },
    "language_info": {
      "name": "python"
    }
  },
  "cells": [
    {
      "cell_type": "markdown",
      "source": [
        "**Scrapping the data from josaa website**"
      ],
      "metadata": {
        "id": "pNzc1Q9zagK-"
      }
    },
    {
      "cell_type": "code",
      "execution_count": null,
      "metadata": {
        "id": "qEObLf_8Kdsh"
      },
      "outputs": [],
      "source": [
        "import requests\n",
        "from bs4 import BeautifulSoup\n",
        "import pandas as pd\n",
        "def josa_data(year, Round):\n",
        "    url = 'https://josaa.admissions.nic.in/applicant/seatmatrix/OpeningClosingRankArchieve.aspx'\n",
        "\n",
        "\n",
        "    params = {\n",
        "        \"ctl00$ContentPlaceHolder1$ddlInstype\": \"ALL\",\n",
        "        \"ctl00$ContentPlaceHolder1$ddlInstitute\": \"ALL\",\n",
        "        \"ctl00$ContentPlaceHolder1$ddlBranch\": \"ALL\",         ## setting the values in the dictionary so that we cun run the loop\n",
        "        \"ctl00$ContentPlaceHolder1$ddlSeatType\": \"OPNO\",\n",
        "        \"ctl00$ContentPlaceHolder1$btnSubmit\": \"Submit\"\n",
        "    }\n",
        "    #filling each input will itself will trigger a post request so we also following that\n",
        "    with requests.Session() as s:\n",
        "        R = s.get(url)    ##intial get request\n",
        "        data = {}\n",
        "        ## the values of the tags changes after every request so we should update it\n",
        "        data.update({tag['name']: tag['value'] for tag in BeautifulSoup(R.content, 'html.parser').select('input[name^=__]')})\n",
        "        data[\"ctl00$ContentPlaceHolder1$ddlYear\"] = year\n",
        "        R = s.post(url, data=data)\n",
        "        data.update({tag['name']: tag['value'] for tag in BeautifulSoup(R.content, 'html.parser').select('input[name^=__]')})\n",
        "        data[\"ctl00$ContentPlaceHolder1$ddlroundno\"] = Round\n",
        "        R = s.post(url, data=data)\n",
        "        for key, value in params.items():   ##loop to avoid the repitetion\n",
        "            data.update({tag['name']: tag['value'] for tag in BeautifulSoup(R.content, 'html.parser').select('input[name^=__]')})\n",
        "            data[key] = value\n",
        "            R = s.post(url, data=data)\n",
        "        table = BeautifulSoup(R.text, 'html.parser').find(id='ctl00_ContentPlaceHolder1_GridView1') ## id for the table\n",
        "\n",
        "    df = pd.read_html(table.prettify())[0]      ## read_html it reads the table from html\n",
        "    df.dropna(inplace=True, how=\"all\")\n",
        "\n",
        "    df[\"Year\"] = year   ## adding the extra column for year and round\n",
        "    df[\"Round\"] = Round\n",
        "\n",
        "    return df"
      ]
    },
    {
      "cell_type": "code",
      "source": [
        "#Extracting data from each round and year\n",
        "\n",
        "years = ['2020', '2021', '2022']\n",
        "rounds = ['1', '2', '3', '4', '5', '6']\n",
        "\n",
        "df = pd.DataFrame()\n",
        "for year in years:\n",
        "    for Round in rounds:\n",
        "        df_temp = josa_data(year, Round)\n",
        "        df = pd.concat([df, df_temp])\n",
        "        print(Round,\"of\",year,\"done\")"
      ],
      "metadata": {
        "id": "uK2JyzGUKu_Z"
      },
      "execution_count": null,
      "outputs": []
    },
    {
      "cell_type": "code",
      "source": [
        "df"
      ],
      "metadata": {
        "id": "WoXEb10SK3ib"
      },
      "execution_count": null,
      "outputs": []
    },
    {
      "cell_type": "code",
      "source": [
        "df_ranks = df.copy()\n",
        "# to filter the iits\n",
        "df_ranks['IS_IIT']=df_ranks['Institute'].apply(lambda x: True if x[:30] == 'Indian Institute of Technology' else False)\n",
        "df_ranks = df_ranks[df_ranks['IS_IIT']== True]"
      ],
      "metadata": {
        "id": "Bzh6VMZ2Urfb"
      },
      "execution_count": null,
      "outputs": []
    },
    {
      "cell_type": "code",
      "source": [
        "##droping the unwanted columns\n",
        "\n",
        "df_ranks=df_ranks.drop(columns=['Quota'])\n",
        "df_ranks=df_ranks.drop(columns=['IS_IIT'])\n",
        "df_ranks.reset_index()\n"
      ],
      "metadata": {
        "id": "lzTPpuNjZArc"
      },
      "execution_count": null,
      "outputs": []
    },
    {
      "cell_type": "code",
      "source": [
        "df_ranks"
      ],
      "metadata": {
        "id": "qs2vrKdwZCil"
      },
      "execution_count": null,
      "outputs": []
    },
    {
      "cell_type": "code",
      "source": [
        "from google.colab import files\n",
        "df_ranks.to_csv('data.csv', encoding = 'utf-8-sig')\n",
        "files.download('data.csv')"
      ],
      "metadata": {
        "id": "L-pawXtYZ0Dm"
      },
      "execution_count": null,
      "outputs": []
    }
  ]
}